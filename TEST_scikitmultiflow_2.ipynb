{
  "nbformat": 4,
  "nbformat_minor": 0,
  "metadata": {
    "colab": {
      "name": "TEST-scikitmultiflow-2.ipynb",
      "provenance": [],
      "authorship_tag": "ABX9TyNA59rawZrYNCY07IH6Iw7+",
      "include_colab_link": true
    },
    "kernelspec": {
      "name": "python3",
      "display_name": "Python 3"
    },
    "language_info": {
      "name": "python"
    }
  },
  "cells": [
    {
      "cell_type": "markdown",
      "metadata": {
        "id": "view-in-github",
        "colab_type": "text"
      },
      "source": [
        "<a href=\"https://colab.research.google.com/github/FatmaTarek/scikit-multiflow/blob/master/TEST_scikitmultiflow_2.ipynb\" target=\"_parent\"><img src=\"https://colab.research.google.com/assets/colab-badge.svg\" alt=\"Open In Colab\"/></a>"
      ]
    },
    {
      "cell_type": "code",
      "metadata": {
        "colab": {
          "base_uri": "https://localhost:8080/"
        },
        "id": "LeIKNW2ZRoiS",
        "outputId": "37a9e6af-077e-44d9-e033-6e7ad0c66c23"
      },
      "source": [
        "!git clone https://github.com/scikit-multiflow/scikit-multiflow.git\n"
      ],
      "execution_count": 1,
      "outputs": [
        {
          "output_type": "stream",
          "name": "stdout",
          "text": [
            "Cloning into 'scikit-multiflow'...\n",
            "remote: Enumerating objects: 20565, done.\u001b[K\n",
            "remote: Counting objects: 100% (96/96), done.\u001b[K\n",
            "remote: Compressing objects: 100% (63/63), done.\u001b[K\n",
            "remote: Total 20565 (delta 49), reused 68 (delta 33), pack-reused 20469\u001b[K\n",
            "Receiving objects: 100% (20565/20565), 62.39 MiB | 21.01 MiB/s, done.\n",
            "Resolving deltas: 100% (15453/15453), done.\n"
          ]
        }
      ]
    },
    {
      "cell_type": "code",
      "metadata": {
        "colab": {
          "base_uri": "https://localhost:8080/"
        },
        "id": "l2U231WQUEIX",
        "outputId": "51e261bd-ed95-4a34-e33a-e4518868d9bc"
      },
      "source": [
        "!pwd\n",
        "!ls"
      ],
      "execution_count": 2,
      "outputs": [
        {
          "output_type": "stream",
          "name": "stdout",
          "text": [
            "/content\n",
            "sample_data  scikit-multiflow\n"
          ]
        }
      ]
    },
    {
      "cell_type": "code",
      "metadata": {
        "colab": {
          "base_uri": "https://localhost:8080/"
        },
        "id": "OsDFN5VyUJ--",
        "outputId": "7beffa21-c7d8-4b81-8d5e-b51b74c42ed4"
      },
      "source": [
        "cd scikit-multiflow"
      ],
      "execution_count": 3,
      "outputs": [
        {
          "output_type": "stream",
          "name": "stdout",
          "text": [
            "/content/scikit-multiflow\n"
          ]
        }
      ]
    },
    {
      "cell_type": "code",
      "metadata": {
        "colab": {
          "base_uri": "https://localhost:8080/"
        },
        "id": "8HtTUQlMayvI",
        "outputId": "e53195ae-24f2-4ddf-9f03-59d644e879d1"
      },
      "source": [
        "!python setup.py develop"
      ],
      "execution_count": 4,
      "outputs": [
        {
          "output_type": "stream",
          "name": "stdout",
          "text": [
            "Compiling src/skmultiflow/metrics/_confusion_matrix.pyx because it changed.\n",
            "Compiling src/skmultiflow/metrics/_classification_performance_evaluator.pyx because it changed.\n",
            "[1/2] Cythonizing src/skmultiflow/metrics/_classification_performance_evaluator.pyx\n",
            "[2/2] Cythonizing src/skmultiflow/metrics/_confusion_matrix.pyx\n",
            "\u001b[39mrunning develop\u001b[0m\n",
            "\u001b[39mrunning build_scripts\u001b[0m\n",
            "\u001b[39mrunning egg_info\u001b[0m\n",
            "\u001b[39mrunning build_src\u001b[0m\n",
            "\u001b[39mbuild_src\u001b[0m\n",
            "\u001b[39mbuilding extension \"skmultiflow.lazy.libNearestNeighbor\" sources\u001b[0m\n",
            "\u001b[39mbuilding extension \"skmultiflow.metrics._confusion_matrix\" sources\u001b[0m\n",
            "\u001b[39mbuilding extension \"skmultiflow.metrics._classification_performance_evaluator\" sources\u001b[0m\n",
            "\u001b[39mbuild_src: building npy-pkg config files\u001b[0m\n",
            "\u001b[39mcreating src/scikit_multiflow.egg-info\u001b[0m\n",
            "\u001b[39mwriting src/scikit_multiflow.egg-info/PKG-INFO\u001b[0m\n",
            "\u001b[39mwriting dependency_links to src/scikit_multiflow.egg-info/dependency_links.txt\u001b[0m\n",
            "\u001b[39mwriting requirements to src/scikit_multiflow.egg-info/requires.txt\u001b[0m\n",
            "\u001b[39mwriting top-level names to src/scikit_multiflow.egg-info/top_level.txt\u001b[0m\n",
            "\u001b[39mwriting manifest file 'src/scikit_multiflow.egg-info/SOURCES.txt'\u001b[0m\n",
            "\u001b[39mreading manifest template 'MANIFEST.in'\u001b[0m\n",
            "\u001b[31mwarning: no files found matching '*.h' under directory 'src/skmultiflow'\u001b[0m\n",
            "\u001b[31mwarning: no files found matching '*.pxi' under directory 'src/skmultiflow'\u001b[0m\n",
            "\u001b[39madding license file 'LICENSE'\u001b[0m\n",
            "\u001b[39madding license file 'AUTHORS.md'\u001b[0m\n",
            "\u001b[39mwriting manifest file 'src/scikit_multiflow.egg-info/SOURCES.txt'\u001b[0m\n",
            "\u001b[39mrunning build_ext\u001b[0m\n",
            "\u001b[39mcustomize UnixCCompiler\u001b[0m\n",
            "\u001b[39mcustomize UnixCCompiler using build_ext\u001b[0m\n",
            "\u001b[39mcustomize UnixCCompiler\u001b[0m\n",
            "\u001b[39mcustomize UnixCCompiler using build_ext\u001b[0m\n",
            "\u001b[39mbuilding 'skmultiflow.lazy.libNearestNeighbor' extension\u001b[0m\n",
            "\u001b[39mcompiling C++ sources\u001b[0m\n",
            "\u001b[39mC compiler: x86_64-linux-gnu-g++ -pthread -Wno-unused-result -Wsign-compare -DNDEBUG -g -fwrapv -O2 -Wall -g -fdebug-prefix-map=/build/python3.7-Y7dWVB/python3.7-3.7.12=. -fstack-protector-strong -Wformat -Werror=format-security -g -fdebug-prefix-map=/build/python3.7-Y7dWVB/python3.7-3.7.12=. -fstack-protector-strong -Wformat -Werror=format-security -Wdate-time -D_FORTIFY_SOURCE=2 -fPIC\n",
            "\u001b[0m\n",
            "\u001b[39mcreating build/temp.linux-x86_64-3.7/src\u001b[0m\n",
            "\u001b[39mcreating build/temp.linux-x86_64-3.7/src/skmultiflow\u001b[0m\n",
            "\u001b[39mcreating build/temp.linux-x86_64-3.7/src/skmultiflow/lazy\u001b[0m\n",
            "\u001b[39mcreating build/temp.linux-x86_64-3.7/src/skmultiflow/lazy/src\u001b[0m\n",
            "\u001b[39mcreating build/temp.linux-x86_64-3.7/src/skmultiflow/lazy/src/libNearestNeighbors\u001b[0m\n",
            "\u001b[39mcompile options: '-I/usr/local/lib/python3.7/dist-packages/numpy/core/include -I/usr/local/lib/python3.7/dist-packages/numpy/core/include -I/usr/include/python3.7m -I/usr/include/python3.7m -c'\u001b[0m\n",
            "\u001b[39mx86_64-linux-gnu-g++: src/skmultiflow/lazy/src/libNearestNeighbors/nearestNeighbor.cpp\u001b[0m\n",
            "In file included from \u001b[01m\u001b[K/usr/local/lib/python3.7/dist-packages/numpy/core/include/numpy/ndarraytypes.h:1822:0\u001b[m\u001b[K,\n",
            "                 from \u001b[01m\u001b[K/usr/local/lib/python3.7/dist-packages/numpy/core/include/numpy/ndarrayobject.h:12\u001b[m\u001b[K,\n",
            "                 from \u001b[01m\u001b[K/usr/local/lib/python3.7/dist-packages/numpy/core/include/numpy/arrayobject.h:4\u001b[m\u001b[K,\n",
            "                 from \u001b[01m\u001b[Ksrc/skmultiflow/lazy/src/libNearestNeighbors/nearestNeighbor.cpp:2\u001b[m\u001b[K:\n",
            "\u001b[01m\u001b[K/usr/local/lib/python3.7/dist-packages/numpy/core/include/numpy/npy_1_7_deprecated_api.h:17:2:\u001b[m\u001b[K \u001b[01;35m\u001b[Kwarning: \u001b[m\u001b[K#warning \"Using deprecated NumPy API, disable it with \" \"#define NPY_NO_DEPRECATED_API NPY_1_7_API_VERSION\" [\u001b[01;35m\u001b[K-Wcpp\u001b[m\u001b[K]\n",
            " #\u001b[01;35m\u001b[Kwarning\u001b[m\u001b[K \"Using deprecated NumPy API, disable it with \" \\\n",
            "  \u001b[01;35m\u001b[K^~~~~~~\u001b[m\u001b[K\n",
            "\u001b[39mx86_64-linux-gnu-g++ -pthread -shared -Wl,-O1 -Wl,-Bsymbolic-functions -Wl,-Bsymbolic-functions -Wl,-z,relro -Wl,-Bsymbolic-functions -Wl,-z,relro -g -fdebug-prefix-map=/build/python3.7-Y7dWVB/python3.7-3.7.12=. -fstack-protector-strong -Wformat -Werror=format-security -Wdate-time -D_FORTIFY_SOURCE=2 build/temp.linux-x86_64-3.7/src/skmultiflow/lazy/src/libNearestNeighbors/nearestNeighbor.o -lm -o src/skmultiflow/lazy/libNearestNeighbor.cpython-37m-x86_64-linux-gnu.so\u001b[0m\n",
            "\u001b[39mbuilding 'skmultiflow.metrics._confusion_matrix' extension\u001b[0m\n",
            "\u001b[39mcompiling C sources\u001b[0m\n",
            "\u001b[39mC compiler: x86_64-linux-gnu-gcc -pthread -Wno-unused-result -Wsign-compare -DNDEBUG -g -fwrapv -O2 -Wall -g -fdebug-prefix-map=/build/python3.7-Y7dWVB/python3.7-3.7.12=. -fstack-protector-strong -Wformat -Werror=format-security -g -fdebug-prefix-map=/build/python3.7-Y7dWVB/python3.7-3.7.12=. -fstack-protector-strong -Wformat -Werror=format-security -Wdate-time -D_FORTIFY_SOURCE=2 -fPIC\n",
            "\u001b[0m\n",
            "\u001b[39mcreating build/temp.linux-x86_64-3.7/src/skmultiflow/metrics\u001b[0m\n",
            "\u001b[39mcompile options: '-I/usr/local/lib/python3.7/dist-packages/numpy/core/include -I/usr/local/lib/python3.7/dist-packages/numpy/core/include -I/usr/include/python3.7m -I/usr/include/python3.7m -c'\n",
            "extra options: '-O3'\u001b[0m\n",
            "\u001b[39mx86_64-linux-gnu-gcc: src/skmultiflow/metrics/_confusion_matrix.c\u001b[0m\n",
            "In file included from \u001b[01m\u001b[K/usr/local/lib/python3.7/dist-packages/numpy/core/include/numpy/ndarraytypes.h:1822:0\u001b[m\u001b[K,\n",
            "                 from \u001b[01m\u001b[K/usr/local/lib/python3.7/dist-packages/numpy/core/include/numpy/ndarrayobject.h:12\u001b[m\u001b[K,\n",
            "                 from \u001b[01m\u001b[K/usr/local/lib/python3.7/dist-packages/numpy/core/include/numpy/arrayobject.h:4\u001b[m\u001b[K,\n",
            "                 from \u001b[01m\u001b[Ksrc/skmultiflow/metrics/_confusion_matrix.c:645\u001b[m\u001b[K:\n",
            "\u001b[01m\u001b[K/usr/local/lib/python3.7/dist-packages/numpy/core/include/numpy/npy_1_7_deprecated_api.h:17:2:\u001b[m\u001b[K \u001b[01;35m\u001b[Kwarning: \u001b[m\u001b[K#warning \"Using deprecated NumPy API, disable it with \" \"#define NPY_NO_DEPRECATED_API NPY_1_7_API_VERSION\" [\u001b[01;35m\u001b[K-Wcpp\u001b[m\u001b[K]\n",
            " #\u001b[01;35m\u001b[Kwarning\u001b[m\u001b[K \"Using deprecated NumPy API, disable it with \" \\\n",
            "  \u001b[01;35m\u001b[K^~~~~~~\u001b[m\u001b[K\n",
            "\u001b[39mx86_64-linux-gnu-gcc -pthread -shared -Wl,-O1 -Wl,-Bsymbolic-functions -Wl,-Bsymbolic-functions -Wl,-z,relro -Wl,-Bsymbolic-functions -Wl,-z,relro -g -fdebug-prefix-map=/build/python3.7-Y7dWVB/python3.7-3.7.12=. -fstack-protector-strong -Wformat -Werror=format-security -Wdate-time -D_FORTIFY_SOURCE=2 build/temp.linux-x86_64-3.7/src/skmultiflow/metrics/_confusion_matrix.o -lm -o src/skmultiflow/metrics/_confusion_matrix.cpython-37m-x86_64-linux-gnu.so\u001b[0m\n",
            "\u001b[39mbuilding 'skmultiflow.metrics._classification_performance_evaluator' extension\u001b[0m\n",
            "\u001b[39mcompiling C sources\u001b[0m\n",
            "\u001b[39mC compiler: x86_64-linux-gnu-gcc -pthread -Wno-unused-result -Wsign-compare -DNDEBUG -g -fwrapv -O2 -Wall -g -fdebug-prefix-map=/build/python3.7-Y7dWVB/python3.7-3.7.12=. -fstack-protector-strong -Wformat -Werror=format-security -g -fdebug-prefix-map=/build/python3.7-Y7dWVB/python3.7-3.7.12=. -fstack-protector-strong -Wformat -Werror=format-security -Wdate-time -D_FORTIFY_SOURCE=2 -fPIC\n",
            "\u001b[0m\n",
            "\u001b[39mcompile options: '-I/usr/local/lib/python3.7/dist-packages/numpy/core/include -I/usr/local/lib/python3.7/dist-packages/numpy/core/include -I/usr/include/python3.7m -I/usr/include/python3.7m -c'\n",
            "extra options: '-O3'\u001b[0m\n",
            "\u001b[39mx86_64-linux-gnu-gcc: src/skmultiflow/metrics/_classification_performance_evaluator.c\u001b[0m\n",
            "In file included from \u001b[01m\u001b[K/usr/local/lib/python3.7/dist-packages/numpy/core/include/numpy/ndarraytypes.h:1822:0\u001b[m\u001b[K,\n",
            "                 from \u001b[01m\u001b[K/usr/local/lib/python3.7/dist-packages/numpy/core/include/numpy/ndarrayobject.h:12\u001b[m\u001b[K,\n",
            "                 from \u001b[01m\u001b[K/usr/local/lib/python3.7/dist-packages/numpy/core/include/numpy/arrayobject.h:4\u001b[m\u001b[K,\n",
            "                 from \u001b[01m\u001b[Ksrc/skmultiflow/metrics/_classification_performance_evaluator.c:645\u001b[m\u001b[K:\n",
            "\u001b[01m\u001b[K/usr/local/lib/python3.7/dist-packages/numpy/core/include/numpy/npy_1_7_deprecated_api.h:17:2:\u001b[m\u001b[K \u001b[01;35m\u001b[Kwarning: \u001b[m\u001b[K#warning \"Using deprecated NumPy API, disable it with \" \"#define NPY_NO_DEPRECATED_API NPY_1_7_API_VERSION\" [\u001b[01;35m\u001b[K-Wcpp\u001b[m\u001b[K]\n",
            " #\u001b[01;35m\u001b[Kwarning\u001b[m\u001b[K \"Using deprecated NumPy API, disable it with \" \\\n",
            "  \u001b[01;35m\u001b[K^~~~~~~\u001b[m\u001b[K\n",
            "\u001b[39mx86_64-linux-gnu-gcc -pthread -shared -Wl,-O1 -Wl,-Bsymbolic-functions -Wl,-Bsymbolic-functions -Wl,-z,relro -Wl,-Bsymbolic-functions -Wl,-z,relro -g -fdebug-prefix-map=/build/python3.7-Y7dWVB/python3.7-3.7.12=. -fstack-protector-strong -Wformat -Werror=format-security -Wdate-time -D_FORTIFY_SOURCE=2 build/temp.linux-x86_64-3.7/src/skmultiflow/metrics/_classification_performance_evaluator.o -lm -o src/skmultiflow/metrics/_classification_performance_evaluator.cpython-37m-x86_64-linux-gnu.so\u001b[0m\n",
            "\u001b[39mCreating /usr/local/lib/python3.7/dist-packages/scikit-multiflow.egg-link (link to src)\u001b[0m\n",
            "\u001b[39mAdding scikit-multiflow 0.6.dev0 to easy-install.pth file\u001b[0m\n",
            "\u001b[39m\n",
            "Installed /content/scikit-multiflow/src\u001b[0m\n",
            "\u001b[39mProcessing dependencies for scikit-multiflow==0.6.dev0\u001b[0m\n",
            "\u001b[39mSearching for pandas==1.1.5\u001b[0m\n",
            "\u001b[39mBest match: pandas 1.1.5\u001b[0m\n",
            "\u001b[39mAdding pandas 1.1.5 to easy-install.pth file\u001b[0m\n",
            "\u001b[39m\n",
            "Using /usr/local/lib/python3.7/dist-packages\u001b[0m\n",
            "\u001b[39mSearching for scikit-learn==0.22.2.post1\u001b[0m\n",
            "\u001b[39mBest match: scikit-learn 0.22.2.post1\u001b[0m\n",
            "\u001b[39mAdding scikit-learn 0.22.2.post1 to easy-install.pth file\u001b[0m\n",
            "\u001b[39m\n",
            "Using /usr/local/lib/python3.7/dist-packages\u001b[0m\n",
            "\u001b[39mSearching for matplotlib==3.2.2\u001b[0m\n",
            "\u001b[39mBest match: matplotlib 3.2.2\u001b[0m\n",
            "\u001b[39mAdding matplotlib 3.2.2 to easy-install.pth file\u001b[0m\n",
            "\u001b[39m\n",
            "Using /usr/local/lib/python3.7/dist-packages\u001b[0m\n",
            "\u001b[39mSearching for scipy==1.4.1\u001b[0m\n",
            "\u001b[39mBest match: scipy 1.4.1\u001b[0m\n",
            "\u001b[39mAdding scipy 1.4.1 to easy-install.pth file\u001b[0m\n",
            "\u001b[39m\n",
            "Using /usr/local/lib/python3.7/dist-packages\u001b[0m\n",
            "\u001b[39mSearching for numpy==1.19.5\u001b[0m\n",
            "\u001b[39mBest match: numpy 1.19.5\u001b[0m\n",
            "\u001b[39mAdding numpy 1.19.5 to easy-install.pth file\u001b[0m\n",
            "\u001b[39mInstalling f2py script to /usr/local/bin\u001b[0m\n",
            "\u001b[39mInstalling f2py3 script to /usr/local/bin\u001b[0m\n",
            "\u001b[39mInstalling f2py3.7 script to /usr/local/bin\u001b[0m\n",
            "\u001b[39m\n",
            "Using /usr/local/lib/python3.7/dist-packages\u001b[0m\n",
            "\u001b[39mSearching for sortedcontainers==2.4.0\u001b[0m\n",
            "\u001b[39mBest match: sortedcontainers 2.4.0\u001b[0m\n",
            "\u001b[39mAdding sortedcontainers 2.4.0 to easy-install.pth file\u001b[0m\n",
            "\u001b[39m\n",
            "Using /usr/local/lib/python3.7/dist-packages\u001b[0m\n",
            "\u001b[39mSearching for python-dateutil==2.8.2\u001b[0m\n",
            "\u001b[39mBest match: python-dateutil 2.8.2\u001b[0m\n",
            "\u001b[39mAdding python-dateutil 2.8.2 to easy-install.pth file\u001b[0m\n",
            "\u001b[39m\n",
            "Using /usr/local/lib/python3.7/dist-packages\u001b[0m\n",
            "\u001b[39mSearching for pytz==2018.9\u001b[0m\n",
            "\u001b[39mBest match: pytz 2018.9\u001b[0m\n",
            "\u001b[39mAdding pytz 2018.9 to easy-install.pth file\u001b[0m\n",
            "\u001b[39m\n",
            "Using /usr/local/lib/python3.7/dist-packages\u001b[0m\n",
            "\u001b[39mSearching for joblib==1.0.1\u001b[0m\n",
            "\u001b[39mBest match: joblib 1.0.1\u001b[0m\n",
            "\u001b[39mAdding joblib 1.0.1 to easy-install.pth file\u001b[0m\n",
            "\u001b[39m\n",
            "Using /usr/local/lib/python3.7/dist-packages\u001b[0m\n",
            "\u001b[39mSearching for kiwisolver==1.3.2\u001b[0m\n",
            "\u001b[39mBest match: kiwisolver 1.3.2\u001b[0m\n",
            "\u001b[39mAdding kiwisolver 1.3.2 to easy-install.pth file\u001b[0m\n",
            "\u001b[39m\n",
            "Using /usr/local/lib/python3.7/dist-packages\u001b[0m\n",
            "\u001b[39mSearching for cycler==0.10.0\u001b[0m\n",
            "\u001b[39mBest match: cycler 0.10.0\u001b[0m\n",
            "\u001b[39mAdding cycler 0.10.0 to easy-install.pth file\u001b[0m\n",
            "\u001b[39m\n",
            "Using /usr/local/lib/python3.7/dist-packages\u001b[0m\n",
            "\u001b[39mSearching for pyparsing==2.4.7\u001b[0m\n",
            "\u001b[39mBest match: pyparsing 2.4.7\u001b[0m\n",
            "\u001b[39mAdding pyparsing 2.4.7 to easy-install.pth file\u001b[0m\n",
            "\u001b[39m\n",
            "Using /usr/local/lib/python3.7/dist-packages\u001b[0m\n",
            "\u001b[39mSearching for six==1.15.0\u001b[0m\n",
            "\u001b[39mBest match: six 1.15.0\u001b[0m\n",
            "\u001b[39mAdding six 1.15.0 to easy-install.pth file\u001b[0m\n",
            "\u001b[39m\n",
            "Using /usr/local/lib/python3.7/dist-packages\u001b[0m\n",
            "\u001b[39mFinished processing dependencies for scikit-multiflow==0.6.dev0\u001b[0m\n"
          ]
        }
      ]
    },
    {
      "cell_type": "code",
      "metadata": {
        "id": "uxdL6i5xUd0O"
      },
      "source": [
        "import sys\n",
        "sys.path.insert(0,'/content/scikit-multiflow/src/')"
      ],
      "execution_count": 5,
      "outputs": []
    },
    {
      "cell_type": "code",
      "metadata": {
        "colab": {
          "base_uri": "https://localhost:8080/",
          "height": 1000
        },
        "id": "uU_rfKtoULxV",
        "outputId": "106df735-947b-4f51-8656-5d4543b37c5d"
      },
      "source": [
        "from skmultiflow.data import WaveformGenerator\n",
        "from skmultiflow.trees import HoeffdingTreeClassifier\n",
        "from skmultiflow.evaluation import EvaluatePrequential\n",
        "\n",
        "\n",
        "# 1. Create a stream\n",
        "stream = WaveformGenerator()\n",
        "\n",
        "# 2. Instantiate the HoeffdingTreeClassifier\n",
        "ht = HoeffdingTreeClassifier()\n",
        "\n",
        "# 3. Setup the evaluator\n",
        "evaluator = EvaluatePrequential(show_plot=True,\n",
        "                               pretrain_size=500,\n",
        "                                max_samples=20000)\n",
        "\n",
        " # 4. Run evaluation\n",
        "evaluator.evaluate(stream=stream, model=ht)"
      ],
      "execution_count": 6,
      "outputs": [
        {
          "output_type": "stream",
          "name": "stdout",
          "text": [
            "Prequential Evaluation\n",
            "Evaluating 1 target(s).\n",
            "Pre-training on 500 sample(s).\n",
            "Evaluating...\n"
          ]
        },
        {
          "output_type": "display_data",
          "data": {
            "image/png": "[encoded data removed]",
            "text/plain": [
              "<Figure size 648x360 with 2 Axes>"
            ]
          },
          "metadata": {
            "needs_background": "light"
          }
        },
        {
          "output_type": "stream",
          "name": "stdout",
          "text": [
            "\r #------------------- [5%] [1.08s]"
          ]
        },
        {
          "output_type": "display_data",
          "data": {
            "text/plain": [
              "<Figure size 432x288 with 0 Axes>"
            ]
          },
          "metadata": {}
        },
        {
          "output_type": "stream",
          "name": "stdout",
          "text": [
            "\r ##------------------ [10%] [1.99s]"
          ]
        },
        {
          "output_type": "display_data",
          "data": {
            "text/plain": [
              "<Figure size 432x288 with 0 Axes>"
            ]
          },
          "metadata": {}
        },
        {
          "output_type": "stream",
          "name": "stdout",
          "text": [
            "\r ###----------------- [15%] [2.92s]"
          ]
        },
        {
          "output_type": "display_data",
          "data": {
            "text/plain": [
              "<Figure size 432x288 with 0 Axes>"
            ]
          },
          "metadata": {}
        },
        {
          "output_type": "stream",
          "name": "stdout",
          "text": [
            "\r ####---------------- [20%] [3.89s]"
          ]
        },
        {
          "output_type": "display_data",
          "data": {
            "text/plain": [
              "<Figure size 432x288 with 0 Axes>"
            ]
          },
          "metadata": {}
        },
        {
          "output_type": "stream",
          "name": "stdout",
          "text": [
            " ######-------------- [30%] [5.82s]"
          ]
        },
        {
          "output_type": "display_data",
          "data": {
            "text/plain": [
              "<Figure size 432x288 with 0 Axes>"
            ]
          },
          "metadata": {}
        },
        {
          "output_type": "stream",
          "name": "stdout",
          "text": [
            "\r #######------------- [35%] [6.77s]"
          ]
        },
        {
          "output_type": "display_data",
          "data": {
            "text/plain": [
              "<Figure size 432x288 with 0 Axes>"
            ]
          },
          "metadata": {}
        },
        {
          "output_type": "stream",
          "name": "stdout",
          "text": [
            "\r ########------------ [40%] [7.69s]"
          ]
        },
        {
          "output_type": "display_data",
          "data": {
            "text/plain": [
              "<Figure size 432x288 with 0 Axes>"
            ]
          },
          "metadata": {}
        },
        {
          "output_type": "stream",
          "name": "stdout",
          "text": [
            "\r #########----------- [45%] [8.60s]"
          ]
        },
        {
          "output_type": "display_data",
          "data": {
            "text/plain": [
              "<Figure size 432x288 with 0 Axes>"
            ]
          },
          "metadata": {}
        },
        {
          "output_type": "stream",
          "name": "stdout",
          "text": [
            "\r ##########---------- [50%] [9.54s]"
          ]
        },
        {
          "output_type": "display_data",
          "data": {
            "text/plain": [
              "<Figure size 432x288 with 0 Axes>"
            ]
          },
          "metadata": {}
        },
        {
          "output_type": "stream",
          "name": "stdout",
          "text": [
            " ############-------- [60%] [11.44s]"
          ]
        },
        {
          "output_type": "display_data",
          "data": {
            "text/plain": [
              "<Figure size 432x288 with 0 Axes>"
            ]
          },
          "metadata": {}
        },
        {
          "output_type": "stream",
          "name": "stdout",
          "text": [
            "\r #############------- [65%] [12.40s]"
          ]
        },
        {
          "output_type": "display_data",
          "data": {
            "text/plain": [
              "<Figure size 432x288 with 0 Axes>"
            ]
          },
          "metadata": {}
        },
        {
          "output_type": "stream",
          "name": "stdout",
          "text": [
            "\r ##############------ [70%] [13.36s]"
          ]
        },
        {
          "output_type": "display_data",
          "data": {
            "text/plain": [
              "<Figure size 432x288 with 0 Axes>"
            ]
          },
          "metadata": {}
        },
        {
          "output_type": "stream",
          "name": "stdout",
          "text": [
            "\r ###############----- [75%] [14.33s]"
          ]
        },
        {
          "output_type": "display_data",
          "data": {
            "text/plain": [
              "<Figure size 432x288 with 0 Axes>"
            ]
          },
          "metadata": {}
        },
        {
          "output_type": "stream",
          "name": "stdout",
          "text": [
            "\r ################---- [80%] [15.29s]"
          ]
        },
        {
          "output_type": "display_data",
          "data": {
            "text/plain": [
              "<Figure size 432x288 with 0 Axes>"
            ]
          },
          "metadata": {}
        },
        {
          "output_type": "stream",
          "name": "stdout",
          "text": [
            "\r #################--- [85%] [16.28s]"
          ]
        },
        {
          "output_type": "display_data",
          "data": {
            "text/plain": [
              "<Figure size 432x288 with 0 Axes>"
            ]
          },
          "metadata": {}
        },
        {
          "output_type": "stream",
          "name": "stdout",
          "text": [
            " ###################- [95%] [18.16s]"
          ]
        },
        {
          "output_type": "display_data",
          "data": {
            "text/plain": [
              "<Figure size 432x288 with 0 Axes>"
            ]
          },
          "metadata": {}
        },
        {
          "output_type": "stream",
          "name": "stdout",
          "text": [
            "\r #################### [100%] [19.09s]\n",
            "Processed samples: 20000\n",
            "Mean performance:\n",
            "M0 - Accuracy     : 0.7953\n",
            "M0 - Kappa        : 0.6930\n"
          ]
        },
        {
          "output_type": "execute_result",
          "data": {
            "text/plain": [
              "[HoeffdingTreeClassifier(binary_split=False, grace_period=200,\n",
              "                         leaf_prediction='nba', max_byte_size=33554432,\n",
              "                         memory_estimate_period=1000000, nb_threshold=0,\n",
              "                         no_preprune=False, nominal_attributes=None,\n",
              "                         remove_poor_atts=False, split_confidence=1e-07,\n",
              "                         split_criterion='info_gain', stop_mem_management=False,\n",
              "                         tie_threshold=0.05)]"
            ]
          },
          "metadata": {},
          "execution_count": 6
        }
      ]
    },
    {
      "cell_type": "code",
      "metadata": {
        "id": "nvqVT99gUZi_"
      },
      "source": [
        ""
      ],
      "execution_count": 6,
      "outputs": []
    }
  ]
}